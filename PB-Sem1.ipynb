{
 "cells": [
  {
   "cell_type": "markdown",
   "metadata": {},
   "source": [
    "# Python. Basic functions."
   ]
  },
  {
   "cell_type": "markdown",
   "metadata": {},
   "source": [
    "When you install Python, you can choose among different versions. We will be using any of the 3.x versions."
   ]
  },
  {
   "cell_type": "markdown",
   "metadata": {},
   "source": [
    "There are at least three ways you can invoke Python:\n",
    "1. interactive environment terminal or Python window\n",
    "2. idle Python integrated development environment\n",
    "3. edit & run write a program that you run in the terminal window\n",
    "4. jupyter notebooks write code that runs interactively in a web browser"
   ]
  },
  {
   "cell_type": "markdown",
   "metadata": {},
   "source": [
    "We start by playing with the interactive environment. "
   ]
  },
  {
   "cell_type": "markdown",
   "metadata": {},
   "source": [
    "If Python is on your system you can start the\n",
    "interactive environment by simply typing python in the terminal window on a\n",
    "Mac or choosing Python from the start menu on Windows. This will produce this\n",
    "response:\n",
    "\n",
    "```\n",
    "$ python\n",
    "Python 3.7.0 ...\n",
    "Type ”help”, ”copyright”, ”credits” or\n",
    "”license” for more information.\n",
    ">>>\n",
    "```\n",
    "\n",
    "The version of Python that you're using is displayed along with additional system\n",
    "information. All of this is followed by the prompt `>>>`. Your commands are typed\n",
    "at that prompt.\n",
    "\n",
    "Before going any further, let's set out the most most important commands that work\n",
    "here:\n",
    "1. `Quit: quit()`. Type this at the `>>>` prompt to exit the interactive environment.\n",
    "Typing `^d (control-d)` has the same effect.\n",
    "2. `Help: help()`. Typing this enters the on-line help system where you can get help\n",
    "on many aspects of using Python. While this is extremely helpful, the responses it\n",
    "provides may not be terribly useful at this stage. You exit this system and return to\n",
    "the interactive environment with the return key.\n",
    "3. `Interrupt: ^c (control-c)`. When we start playing with the system, you will\n",
    "occasionally get stuck in the middle of a command or while some command is\n",
    "running. If you do get stuck, if some command seems to be running forever, you\n",
    "can often regain control and return to the `>>>` prompt by typing `^c`."
   ]
  },
  {
   "cell_type": "markdown",
   "metadata": {},
   "source": [
    "In the interactive environment, you can type Python\n",
    "statements and they are immediately evaluated. For example, you can perform\n",
    "mathematical calculations like multiplication or addition:\n",
    "```\n",
    ">>> 3 * 8\n",
    "24\n",
    ">>> 6 + 4.7\n",
    "10.7\n",
    ">>> 5 - 10\n",
    "-5\n",
    "```"
   ]
  },
  {
   "cell_type": "markdown",
   "metadata": {},
   "source": [
    "Words and sentences (character strings) must be\n",
    "entered in single or double quotes. \n",
    "```\n",
    "’This is a sentence’\n",
    "”This is another one”\n",
    "```\n",
    "Interestingly, some of the mathematical operators above can be used with character\n",
    "strings. With numbers `+` is addition, but with\n",
    "strings it is concatenation. With numbers `*` is multiplication, but with a string and a\n",
    "number it repeats the string:\n",
    "```\n",
    ">>> ’phon’ + ’ology’\n",
    "’phonology’\n",
    ">>> ’phon’ * 7\n",
    "’phonphonphonphonphonphonphon’\n",
    "```\n"
   ]
  },
  {
   "cell_type": "markdown",
   "metadata": {},
   "source": [
    "There are some functions that operate directly on strings. The `len()` function\n",
    "returns the number of characters in a string.\n",
    "```\n",
    ">>> len(’semantics’)\n",
    "9\n",
    "```\n",
    "The `type()` function can operate on strings or numbers and returns the general\n",
    "“type” of the object it applies to.\n",
    "```\n",
    ">>> type(5)\n",
    "<class ’int’>\n",
    ">>> type(8.7)\n",
    "<class ’float’>\n",
    ">>> type(’Dasha’)\n",
    "<class ’str’>\n",
    "```\n",
    "The quotes surrounding a character string are essential and distinguish\n",
    "strings from other types. What happens, if you leave them out?\n",
    "\n",
    "If you put quotes around numbers, you change the basic type of the object.\n",
    "Consider the difference here:\n",
    "```\n",
    ">>> 8 + 3\n",
    "11\n",
    ">>> ’8’ + ’3’\n",
    "’83’\n",
    "```"
   ]
  },
  {
   "cell_type": "markdown",
   "metadata": {},
   "source": [
    "There are functions for converting back and forth between character strings, integers,\n",
    "and floating point numbers:\n",
    "```\n",
    ">>> int(’8’)\n",
    "8\n",
    ">>> float(’7.8’)\n",
    "7.8\n",
    ">>> str(7)\n",
    "’7’\n",
    "```\n",
    "Operators and functions can be combined as well. For example:\n",
    "```\n",
    ">>> (7 + 4) * 2\n",
    "22\n",
    ">>> str(8) + str(5)\n",
    "’85’\n",
    ">>> int(str(7)) * 3\n",
    "21\n",
    "```"
   ]
  },
  {
   "cell_type": "markdown",
   "metadata": {},
   "source": [
    "The format we've used for functions is to invoke the function by putting parentheses\n",
    "after its name, e.g. `str()`. There are other functions with a different syntax -- methods, functions that are very\n",
    "specifically associated with some particular datatype. To invoke one of these, the method name and parentheses\n",
    "are suffixed to the relevant object with a period. For example, the string method\n",
    "`upper()` returns an uppercase version of a string. We invoke it as follows:\n",
    "```\n",
    ">>> ’this is awesome’.upper()\n",
    "’THIS IS AWESOME’\n",
    "```\n",
    "There are methods that take additional arguments as well. For example, count()\n",
    "returns the number of instances of its argument in the string.\n",
    "```\n",
    ">>> ’this is awesome’.count(’i’)\n",
    "2\n",
    "```"
   ]
  },
  {
   "cell_type": "markdown",
   "metadata": {},
   "source": [
    "Let's move on from the interactive environment and write a program \n",
    "```\n",
    "print('hello!')\n",
    "```\n",
    "in a text editor (you can use IDLE to create a text file, Emacs (or Aquamacs)), save the file as `hello.py` and run it in the terminal/command line.\n",
    "\n",
    "The simplest way to run a program is to type\n",
    "`python hello.py` in the terminal or the command line:\n",
    "\n",
    "```\n",
    "> python hello.py\n",
    "hello!\n",
    "```\n",
    "If you invoke the program as above, it’s important that the program be in the same\n",
    "directory that the terminal window is in. To find out what directory you are in, you\n",
    "can type `pwd` at the terminal prompt. To see if this program file is in that directory, you can use the `ls` command at the terminal prompt. If it is not, you can either\n",
    "move it there or you can instruct the terminal to switch to another directory with\n",
    "the `cd` command (followed by the path to the directory you want to be in).\n"
   ]
  },
  {
   "cell_type": "markdown",
   "metadata": {},
   "source": [
    "Once can also add comments to a code file. Comments are lines of code that remind\n",
    "the programmer of what the code does or should do. Comments are marked\n",
    "with a `#` on their left. Everything on the same line after that `#` have no effect on\n",
    "the program. Comments can occur on their own line or on the right side of an actual\n",
    "line of code.\n",
    "\n",
    "```\n",
    "#the greeting\n",
    "print('hello!')#change this line later\n",
    "```"
   ]
  },
  {
   "cell_type": "markdown",
   "metadata": {},
   "source": [
    "**Exercises:**\n",
    "1. Write commands that print out your first name, the number of characters in\n",
    "that name, your last name, the number of characters in that name, and then\n",
    "concatenates and prints the two names (with a space).\n",
    "2. What’s the difference between these?\n",
    "```\n",
    "str(3 + 3) + ’3’\n",
    "int(’3’) + int(’3’ + ’3’)\n",
    "```\n",
    "3. What’s the difference between these?\n",
    "\n",
    "```’This is Mike’.upper().lower()\n",
    "’This is Mike’.lower().upper()\n",
    "```\n",
    "4. Why does ```upper(’This is a cat’)``` not work?\n",
    "5. What does the mathematical operator `**` do?\n",
    "6. In math, `6 + 2` and `2 + 6` mean the same thing. We’ve seen that `+` and `*`\n",
    "can be used with strings too. What happens if arguments are reversed when\n",
    "strings are involved? Do those expressions mean the same thing?"
   ]
  }
 ],
 "metadata": {
  "kernelspec": {
   "display_name": "Python 3",
   "language": "python",
   "name": "python3"
  },
  "language_info": {
   "codemirror_mode": {
    "name": "ipython",
    "version": 3
   },
   "file_extension": ".py",
   "mimetype": "text/x-python",
   "name": "python",
   "nbconvert_exporter": "python",
   "pygments_lexer": "ipython3",
   "version": "3.6.5"
  }
 },
 "nbformat": 4,
 "nbformat_minor": 2
}
